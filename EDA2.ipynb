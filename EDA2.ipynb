{
 "cells": [
  {
   "cell_type": "code",
   "execution_count": 1,
   "metadata": {
    "collapsed": true
   },
   "outputs": [],
   "source": [
    "import os \n",
    "#import psycopg2\n",
    "import matplotlib.pyplot as plt\n",
    "import numpy as np\n",
    "import pandas as pd\n",
    "import seaborn as sns\n",
    "%matplotlib inline"
   ]
  },
  {
   "cell_type": "code",
   "execution_count": 2,
   "metadata": {
    "collapsed": false
   },
   "outputs": [
    {
     "name": "stdout",
     "output_type": "stream",
     "text": [
      " Volume in drive C is Windows7_OS\n",
      " Volume Serial Number is D418-93D2\n",
      "\n",
      " Directory of C:\\Users\\Administrator\\Desktop\\sdss2019_data_hack\\Datasets\n",
      "\n",
      "05/31/2019  11:29 AM    <DIR>          .\n",
      "05/31/2019  11:29 AM    <DIR>          ..\n",
      "05/31/2019  11:29 AM    <DIR>          .ipynb_checkpoints\n",
      "05/27/2019  10:52 PM         1,207,971 2007-2018-PIT-Counts-by-CoC.xlsx\n",
      "05/31/2019  11:04 AM         1,167,814 2007-2018-PIT-Counts-by-CoC_v1.xlsx\n",
      "05/31/2019  10:31 AM           948,733 2007-2018-PIT-Counts-by-CoC_v2.xlsx\n",
      "05/29/2019  12:19 PM         4,297,114 2018-Housing-Inventory-Count-Raw-File.xlsx\n",
      "05/29/2019  03:50 PM            11,526 Data Dictionary.docx\n",
      "05/31/2019  11:08 AM           272,407 EDA1.ipynb\n",
      "05/29/2019  10:39 AM         4,075,873 evictions.csv\n",
      "05/27/2019  11:12 PM           141,233 forecloseWATract.csv\n",
      "05/27/2019  01:23 PM         3,260,181 king_zillow.csv\n",
      "05/29/2019  11:40 AM             6,454 oneNightCount.csv\n",
      "05/31/2019  11:11 AM                15 README.md\n",
      "05/27/2019  01:26 PM               358 spatial_data.R\n",
      "05/31/2019  11:29 AM                72 Untitled.ipynb\n",
      "              13 File(s)     15,389,751 bytes\n",
      "               3 Dir(s)  40,498,159,616 bytes free\n"
     ]
    }
   ],
   "source": [
    "!dir"
   ]
  },
  {
   "cell_type": "code",
   "execution_count": 22,
   "metadata": {
    "collapsed": false
   },
   "outputs": [],
   "source": [
    "evi=pd.read_csv('evictions.csv')\n",
    "evi['GEOID_co'] = evi.GEOID.astype(str).str.slice(0, 4)"
   ]
  },
  {
   "cell_type": "code",
   "execution_count": 23,
   "metadata": {
    "collapsed": false
   },
   "outputs": [
    {
     "data": {
      "text/plain": [
       "['GEOID',\n",
       " 'year',\n",
       " 'name',\n",
       " 'parent-location',\n",
       " 'population',\n",
       " 'poverty-rate',\n",
       " 'renter-occupied-households',\n",
       " 'pct-renter-occupied',\n",
       " 'median-gross-rent',\n",
       " 'median-household-income',\n",
       " 'median-property-value',\n",
       " 'rent-burden',\n",
       " 'pct-white',\n",
       " 'pct-af-am',\n",
       " 'pct-hispanic',\n",
       " 'pct-am-ind',\n",
       " 'pct-asian',\n",
       " 'pct-nh-pi',\n",
       " 'pct-multiple',\n",
       " 'pct-other',\n",
       " 'eviction-filings',\n",
       " 'evictions',\n",
       " 'eviction-rate',\n",
       " 'eviction-filing-rate',\n",
       " 'low-flag',\n",
       " 'imputed',\n",
       " 'subbed',\n",
       " 'GEOID_co']"
      ]
     },
     "execution_count": 23,
     "metadata": {},
     "output_type": "execute_result"
    }
   ],
   "source": [
    "list(evi)"
   ]
  },
  {
   "cell_type": "code",
   "execution_count": 33,
   "metadata": {
    "collapsed": false
   },
   "outputs": [
    {
     "data": {
      "image/png": "[encoded data removed]",
      "text/plain": [
       "<matplotlib.figure.Figure at 0xa814c50>"
      ]
     },
     "metadata": {},
     "output_type": "display_data"
    }
   ],
   "source": [
    "plt.rcParams['figure.figsize']=(10,10)\n",
    "tmp=evi.groupby(['GEOID_co','year'])['eviction-rate'].mean().rename('mean').reset_index().copy()\n",
    "avg_evi = pd.DataFrame(tmp)\n",
    "ax3 = sns.boxplot(x=\"year\", y=\"mean\", data=avg_evi)"
   ]
  },
  {
   "cell_type": "code",
   "execution_count": null,
   "metadata": {
    "collapsed": true
   },
   "outputs": [],
   "source": []
  },
  {
   "cell_type": "code",
   "execution_count": null,
   "metadata": {
    "collapsed": true
   },
   "outputs": [],
   "source": []
  },
  {
   "cell_type": "code",
   "execution_count": null,
   "metadata": {
    "collapsed": true
   },
   "outputs": [],
   "source": []
  }
 ],
 "metadata": {
  "kernelspec": {
   "display_name": "Python 3",
   "language": "python",
   "name": "python3"
  },
  "language_info": {
   "codemirror_mode": {
    "name": "ipython",
    "version": 3
   },
   "file_extension": ".py",
   "mimetype": "text/x-python",
   "name": "python",
   "nbconvert_exporter": "python",
   "pygments_lexer": "ipython3",
   "version": "3.5.2"
  }
 },
 "nbformat": 4,
 "nbformat_minor": 2
}
